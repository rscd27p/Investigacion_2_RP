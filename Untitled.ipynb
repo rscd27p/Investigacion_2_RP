{
 "cells": [
  {
   "cell_type": "markdown",
   "id": "interior-beginning",
   "metadata": {},
   "source": [
    "# Investigación 2 - Classification Algorithms\n",
    "\n",
    "## Pattern Recognition MP6122 - Master of Science in Electronics - Emphasis on Embedded Systems\n",
    "\n",
    "## Costa Rica TEC\n",
    "\n",
    "Professor: MSc. Felipe Meza\n",
    "Student: Randy Céspedes Deliyore - ID: 201054417\n",
    "\n",
    "The choosen data set is named **COVID-19 Airline Flight Delays and Cancellations** and can be found [here](https://www.kaggle.com/akulbahl/covid19-airline-flight-delays-and-cancellations).\n",
    "\n",
    "This dataset was choosen since it had a larger complexity than the one selected in the first assigment that be found in this [github page](https://github.com/rscd27p/Investigacion_1_RP). For the purpose of this work, this dataset would allow to perform more interesting analysis. \n",
    "\n",
    "The processing of this dataset is done in the jupyter notebook named [Investigacion2_Cespedes_Randy.ipynb](https://github.com/rscd27p/Investigacion_2_RP).\n",
    "\n",
    "The intial dataset was over 600 MB and was reduced to 35 MB.\n",
    "\n",
    "The goal of this notebook would be to compare multiple classification techniques."
   ]
  },
  {
   "cell_type": "code",
   "execution_count": null,
   "id": "honest-lightning",
   "metadata": {},
   "outputs": [],
   "source": []
  }
 ],
 "metadata": {
  "kernelspec": {
   "display_name": "Python 3",
   "language": "python",
   "name": "python3"
  },
  "language_info": {
   "codemirror_mode": {
    "name": "ipython",
    "version": 3
   },
   "file_extension": ".py",
   "mimetype": "text/x-python",
   "name": "python",
   "nbconvert_exporter": "python",
   "pygments_lexer": "ipython3",
   "version": "3.9.1"
  }
 },
 "nbformat": 4,
 "nbformat_minor": 5
}
